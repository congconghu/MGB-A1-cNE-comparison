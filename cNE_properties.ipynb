{
 "cells": [
  {
   "cell_type": "markdown",
   "id": "b465d05b",
   "metadata": {},
   "source": [
    "# Aim\n",
    "\n",
    "The aim of the anaylsis is to get basic cNE properties and compare properties of cNEs in A1 and MGB"
   ]
  },
  {
   "cell_type": "code",
   "execution_count": 64,
   "id": "8918688a",
   "metadata": {},
   "outputs": [],
   "source": [
    "import os\n",
    "import glob\n",
    "import pickle\n",
    "import pandas as pd\n",
    "import numpy as np\n",
    "import matplotlib.pyplot as plt\n",
    "import seaborn as sns\n",
    "\n",
    "from scipy import signal, stats\n",
    "from scipy.stats import zscore\n",
    "from plot_box import plot_significance_star\n",
    "from ne_toolbox import moran_i, calc_strf_ptd\n",
    "\n",
    "\n",
    "\n",
    "# get colors for box plots\n",
    "colors = sns.color_palette(\"Paired\")\n",
    "A1_color = (colors[1], colors[0], colors[3], colors[2])\n",
    "MGB_color = (colors[5], colors[4], colors[7], colors[6])\n",
    "colors = list(MGB_color) + list(A1_color)"
   ]
  },
  {
   "cell_type": "code",
   "execution_count": 65,
   "id": "87f11e62",
   "metadata": {},
   "outputs": [],
   "source": [
    "datafolder = 'E:\\Congcong\\Documents\\data\\comparison\\data-summary'\n",
    "ne_file = os.path.join(datafolder, 'cNE.json')\n",
    "ne = pd.read_json(ne_file)\n",
    "su = pd.read_json(os.path.join(datafolder, 'single_units.json'))"
   ]
  },
  {
   "cell_type": "code",
   "execution_count": 21,
   "id": "2da001c6",
   "metadata": {},
   "outputs": [
    {
     "data": {
      "text/html": [
       "<div>\n",
       "<style scoped>\n",
       "    .dataframe tbody tr th:only-of-type {\n",
       "        vertical-align: middle;\n",
       "    }\n",
       "\n",
       "    .dataframe tbody tr th {\n",
       "        vertical-align: top;\n",
       "    }\n",
       "\n",
       "    .dataframe thead th {\n",
       "        text-align: right;\n",
       "    }\n",
       "</style>\n",
       "<table border=\"1\" class=\"dataframe\">\n",
       "  <thead>\n",
       "    <tr style=\"text-align: right;\">\n",
       "      <th></th>\n",
       "      <th>exp</th>\n",
       "      <th>probe</th>\n",
       "      <th>depth</th>\n",
       "      <th>cNE</th>\n",
       "      <th>members</th>\n",
       "      <th>pattern</th>\n",
       "      <th>strf_sig</th>\n",
       "      <th>crh_sig</th>\n",
       "      <th>freq_span_oct</th>\n",
       "      <th>region</th>\n",
       "    </tr>\n",
       "  </thead>\n",
       "  <tbody>\n",
       "    <tr>\n",
       "      <th>0</th>\n",
       "      <td>191126211411</td>\n",
       "      <td>H31x64</td>\n",
       "      <td>5214</td>\n",
       "      <td>0</td>\n",
       "      <td>[3, 4, 9]</td>\n",
       "      <td>[-0.0756121417, 0.0515729986, 0.0342513859, 0....</td>\n",
       "      <td>True</td>\n",
       "      <td>False</td>\n",
       "      <td>3.211138</td>\n",
       "      <td>MGB</td>\n",
       "    </tr>\n",
       "    <tr>\n",
       "      <th>1</th>\n",
       "      <td>191126211411</td>\n",
       "      <td>H31x64</td>\n",
       "      <td>5214</td>\n",
       "      <td>1</td>\n",
       "      <td>[1, 8, 10]</td>\n",
       "      <td>[0.2273610862, 0.2949384624, 0.240309528300000...</td>\n",
       "      <td>False</td>\n",
       "      <td>True</td>\n",
       "      <td>3.010442</td>\n",
       "      <td>MGB</td>\n",
       "    </tr>\n",
       "    <tr>\n",
       "      <th>2</th>\n",
       "      <td>191126211411</td>\n",
       "      <td>H31x64</td>\n",
       "      <td>5214</td>\n",
       "      <td>2</td>\n",
       "      <td>[1, 5, 7]</td>\n",
       "      <td>[0.0742804231, 0.45692949320000004, -0.4728641...</td>\n",
       "      <td>True</td>\n",
       "      <td>True</td>\n",
       "      <td>2.107309</td>\n",
       "      <td>MGB</td>\n",
       "    </tr>\n",
       "    <tr>\n",
       "      <th>3</th>\n",
       "      <td>200127153707</td>\n",
       "      <td>H31x64</td>\n",
       "      <td>5004</td>\n",
       "      <td>0</td>\n",
       "      <td>[0, 3, 6]</td>\n",
       "      <td>[0.4240616038, 0.09859236900000001, 0.26063851...</td>\n",
       "      <td>False</td>\n",
       "      <td>False</td>\n",
       "      <td>2.207657</td>\n",
       "      <td>MGB</td>\n",
       "    </tr>\n",
       "    <tr>\n",
       "      <th>4</th>\n",
       "      <td>200709232021</td>\n",
       "      <td>H22x32</td>\n",
       "      <td>1300</td>\n",
       "      <td>0</td>\n",
       "      <td>[7, 13, 16, 20]</td>\n",
       "      <td>[0.047847763700000004, 0.08136203630000001, 0....</td>\n",
       "      <td>True</td>\n",
       "      <td>True</td>\n",
       "      <td>0.401392</td>\n",
       "      <td>A1</td>\n",
       "    </tr>\n",
       "  </tbody>\n",
       "</table>\n",
       "</div>"
      ],
      "text/plain": [
       "            exp   probe  depth  cNE          members  \\\n",
       "0  191126211411  H31x64   5214    0        [3, 4, 9]   \n",
       "1  191126211411  H31x64   5214    1       [1, 8, 10]   \n",
       "2  191126211411  H31x64   5214    2        [1, 5, 7]   \n",
       "3  200127153707  H31x64   5004    0        [0, 3, 6]   \n",
       "4  200709232021  H22x32   1300    0  [7, 13, 16, 20]   \n",
       "\n",
       "                                             pattern  strf_sig  crh_sig  \\\n",
       "0  [-0.0756121417, 0.0515729986, 0.0342513859, 0....      True    False   \n",
       "1  [0.2273610862, 0.2949384624, 0.240309528300000...     False     True   \n",
       "2  [0.0742804231, 0.45692949320000004, -0.4728641...      True     True   \n",
       "3  [0.4240616038, 0.09859236900000001, 0.26063851...     False    False   \n",
       "4  [0.047847763700000004, 0.08136203630000001, 0....      True     True   \n",
       "\n",
       "   freq_span_oct region  \n",
       "0       3.211138    MGB  \n",
       "1       3.010442    MGB  \n",
       "2       2.107309    MGB  \n",
       "3       2.207657    MGB  \n",
       "4       0.401392     A1  "
      ]
     },
     "execution_count": 21,
     "metadata": {},
     "output_type": "execute_result"
    }
   ],
   "source": [
    "ne.head()"
   ]
  },
  {
   "cell_type": "markdown",
   "id": "4422a136",
   "metadata": {},
   "source": [
    "### Add Features (Run Once)"
   ]
  },
  {
   "cell_type": "code",
   "execution_count": 23,
   "id": "07c1c62e",
   "metadata": {},
   "outputs": [],
   "source": [
    "# add frequency span of all members\n",
    "freq_span = []\n",
    "su_sig = su[su.strf_sig]\n",
    "for i in range(len(ne)):\n",
    "    cNE = ne.iloc[i]\n",
    "    exp = cNE.exp\n",
    "    probe = cNE.probe\n",
    "    members = su_sig[(su_sig.exp == exp) & (su_sig.probe == probe)]\n",
    "    members = members[members['index'].apply(lambda x: x in cNE.members)]\n",
    "    # get frequency span of members\n",
    "    if len(members) > 1:\n",
    "        freq_span.append(np.log2(members.bf.max() / members.bf.min()))\n",
    "    else:\n",
    "        freq_span.append(np.nan)\n",
    "\n",
    "ne['freq_span_oct'] = freq_span\n",
    "\n",
    "# add region of the recording\n",
    "region = ['MGB' if x == 'H31x64' else 'A1' for x in ne['probe']]\n",
    "ne['region'] = region\n",
    "ne.to_json(ne_file)"
   ]
  },
  {
   "cell_type": "markdown",
   "id": "16668604",
   "metadata": {},
   "source": [
    "#### reliability index PTD, Moran's I, ASI, MI from subsampled units"
   ]
  },
  {
   "cell_type": "code",
   "execution_count": 66,
   "id": "4e9f91d3",
   "metadata": {},
   "outputs": [
    {
     "name": "stdout",
     "output_type": "stream",
     "text": [
      "773\n"
     ]
    }
   ],
   "source": [
    "datafolder = 'E:\\Congcong\\Documents\\data\\comparison\\data-summary'\n",
    "subsample_file = os.path.join(datafolder, 'subsample_ne_neuron.json')\n",
    "subsample = pd.read_json(subsample_file)\n",
    "\n",
    "region = ['MGB' if x == 'H31x64' else 'A1' for x in subsample.probe]\n",
    "subsample['region'] = region\n",
    "\n",
    "for rf in ('strf', 'crh'):\n",
    "    for ri in ('_ri_neuron', '_ri_cNE', '_ri_ne_spike'):\n",
    "        # flatten the columns contaning ri\n",
    "        subsample[rf+ri] = subsample[rf+ri].apply(lambda x:np.array(x, dtype=np.float64)).apply(lambda x: x.flatten())\n",
    "        # get ri std\n",
    "        subsample[rf+ri+'_std'] =  subsample[rf+ri].apply(np.nanstd)\n",
    "        # get ri mean\n",
    "        subsample[rf+ri+'_mean'] =  subsample[rf+ri].apply(np.nanmean)\n",
    "        \n",
    "subsample = pd.merge(subsample,ne[['exp', 'depth', 'cNE', 'strf_sig', 'crh_sig']], on=['exp', 'depth', 'cNE'])\n",
    "subsample.to_json('E:\\Congcong\\Documents\\data\\comparison\\data-summary\\subsample_ne_neuron.json')\n",
    "print(len(subsample))"
   ]
  },
  {
   "cell_type": "code",
   "execution_count": 67,
   "id": "9e7fdd1c",
   "metadata": {},
   "outputs": [
    {
     "data": {
      "text/plain": [
       "Index(['exp', 'depth', 'probe', 'cNE', 'member', 'n_events', 'strf_neuron',\n",
       "       'strf_cNE', 'strf_ne_spike', 'strf_ri_neuron', 'strf_ri_cNE',\n",
       "       'strf_ri_ne_spike', 'crh_neuron', 'crh_cNE', 'crh_ne_spike',\n",
       "       'crh_ri_neuron', 'crh_ri_cNE', 'crh_ri_ne_spike', 'ptd_neuron',\n",
       "       'ptd_cNE', 'ptd_ne_spike', 'morani_neuron', 'morani_cNE',\n",
       "       'morani_ne_spike', 'asi_neuron', 'asi_cNE', 'asi_ne_spike', 'mi_neuron',\n",
       "       'mi_cNE', 'mi_ne_spike', 'mi_raw_neuron', 'mi_raw_cNE',\n",
       "       'mi_raw_ne_spike', 'nonlin_centers_neuron', 'nonlin_centers_cNE',\n",
       "       'nonlin_centers_ne_spike', 'nonlin_fr_neuron', 'nonlin_fr_cNE',\n",
       "       'nonlin_fr_ne_spike', 'region', 'strf_ri_neuron_std',\n",
       "       'strf_ri_neuron_mean', 'strf_ri_cNE_std', 'strf_ri_cNE_mean',\n",
       "       'strf_ri_ne_spike_std', 'strf_ri_ne_spike_mean', 'crh_ri_neuron_std',\n",
       "       'crh_ri_neuron_mean', 'crh_ri_cNE_std', 'crh_ri_cNE_mean',\n",
       "       'crh_ri_ne_spike_std', 'crh_ri_ne_spike_mean', 'strf_sig', 'crh_sig'],\n",
       "      dtype='object')"
      ]
     },
     "execution_count": 67,
     "metadata": {},
     "output_type": "execute_result"
    }
   ],
   "source": [
    "subsample.columns"
   ]
  },
  {
   "cell_type": "code",
   "execution_count": 80,
   "id": "79666ade",
   "metadata": {},
   "outputs": [],
   "source": [
    "for unit_type in ('_neuron', '_cNE', '_ne_spike'):\n",
    "    subsample['ptd' + unit_type] = subsample['ptd' + unit_type].apply(np.nanmean)\n",
    "    subsample['morani' + unit_type] = subsample['morani' + unit_type].apply(np.nanmean)\n",
    "    #subsample['asi' + unit_type] = subsample['asi' + unit_type].apply(np.nanmean)\n",
    "    subsample['mi' + unit_type] = subsample['mi' + unit_type].apply(np.nanmean)\n",
    "subsample_summary = subsample[['exp', 'depth', 'probe', 'cNE', 'member', 'n_events', 'region', \n",
    "                               'strf_ri_neuron_std', 'strf_ri_neuron_mean', \n",
    "                               'strf_ri_cNE_std', 'strf_ri_cNE_mean',\n",
    "                               'strf_ri_ne_spike_std', 'strf_ri_ne_spike_mean', \n",
    "                               'crh_ri_neuron_std', 'crh_ri_neuron_mean', \n",
    "                               'crh_ri_cNE_std', 'crh_ri_cNE_mean',\n",
    "                               'crh_ri_ne_spike_std', 'crh_ri_ne_spike_mean',\n",
    "                               'ptd_neuron', 'ptd_cNE', 'ptd_ne_spike', \n",
    "                               'morani_neuron', 'morani_cNE', 'morani_ne_spike', \n",
    "                               'asi_neuron', 'asi_cNE', 'asi_ne_spike', \n",
    "                               'mi_neuron', 'mi_cNE', 'mi_ne_spike','strf_sig', 'crh_sig']]\n",
    "subsample_summary.to_json('E:\\Congcong\\Documents\\data\\comparison\\data-summary\\subsample_ne_neuron_summary.json')"
   ]
  },
  {
   "cell_type": "markdown",
   "id": "758ea28f",
   "metadata": {},
   "source": [
    "### Stimulus Encoding Properties of cNEs"
   ]
  },
  {
   "cell_type": "markdown",
   "id": "ce494f1f",
   "metadata": {},
   "source": [
    "#### frequency span: strf+ vs strf- cNEs"
   ]
  },
  {
   "cell_type": "code",
   "execution_count": 69,
   "id": "3534b14a",
   "metadata": {},
   "outputs": [
    {
     "name": "stdout",
     "output_type": "stream",
     "text": [
      "significance test: sig vs nonsig\n",
      "MannwhitneyuResult(statistic=1405.0, pvalue=0.5179266846707165)\n",
      "MannwhitneyuResult(statistic=610.5, pvalue=0.17778718553002126)\n"
     ]
    },
    {
     "data": {
      "image/png": "[encoded data removed]",
      "text/plain": [
       "<Figure size 432x288 with 1 Axes>"
      ]
     },
     "metadata": {
      "needs_background": "light"
     },
     "output_type": "display_data"
    }
   ],
   "source": [
    "fig = plt.figure()\n",
    "ax = fig.add_axes([0.1, 0.1, 0.8, 0.8]) \n",
    "my_order = ['MGB_True', 'MGB_False', 'A1_True', 'A1_False']\n",
    "palette = MGB_color[:2] + A1_color[:2]\n",
    "ne['region_sig'] = ne[['region', 'strf_sig']].apply(tuple, axis=1)\n",
    "ne['region_sig'] = ne['region_sig'].apply(lambda x: '_'.join([str(y) for y in x]))\n",
    "sns.stripplot(x='region_sig', y='freq_span_oct', data=ne, order=my_order,\n",
    "              hue='region_sig', hue_order=my_order, palette=palette,\n",
    "              jitter=0.3, s=3, legend=False)\n",
    "bplot = sns.boxplot(x='region_sig', y='freq_span_oct', data=ne, order=my_order, \n",
    "                    width=0.6, notch=True, flierprops={'marker': ''})\n",
    "for i,box_col in enumerate(palette):\n",
    "    \n",
    "        mybox = bplot.patches[i]\n",
    "    \n",
    "        mybox.set_edgecolor(box_col)\n",
    "        mybox.set_facecolor('w')\n",
    "\n",
    "        for j in range(i*6,i*6+6):\n",
    "            line = bplot.lines[j]\n",
    "            line.set_color(box_col)\n",
    "            line.set_mfc(box_col)\n",
    "            line.set_mec(box_col)\n",
    "xlabels = ['\\n'.join(x.split('_')) for x in my_order]\n",
    "xlabels = [x.replace('True', '+') for x in xlabels]\n",
    "xlabels = [x.replace('False', '-') for x in xlabels]\n",
    "\n",
    "ax.set_xticklabels(xlabels)\n",
    "ax.set_xlim([-1, 4])\n",
    "ax.set_ylabel('frequency span (oct)')\n",
    "ax.set_xlabel('')\n",
    "\n",
    "# significance test between 2 regions\n",
    "print('significance test: sig vs nonsig')\n",
    "for i in range(2):\n",
    "    x=ne[ne['region_sig'] == my_order[i*2]]['freq_span_oct']\n",
    "    y=ne[ne['region_sig'] == my_order[i*2+1]]['freq_span_oct']\n",
    "    res = stats.mannwhitneyu(x=x[~np.isnan(x)], \n",
    "                            y=y[~np.isnan(y)])\n",
    "    print(res)\n",
    "    p = res.pvalue\n",
    "\n",
    "    plot_significance_star(ax, p, [i*2, i*2+1], 5, 5)\n",
    "plt.savefig(r'E:\\Congcong\\Documents\\data\\comparison\\figure\\cNE-properties\\frequency_span_strf_sig.png', bbox_inches='tight', dpi=300)"
   ]
  },
  {
   "cell_type": "markdown",
   "id": "f183ab84",
   "metadata": {},
   "source": [
    "#### cNE RI vs neuron RI (strf/crh)"
   ]
  },
  {
   "cell_type": "code",
   "execution_count": 78,
   "id": "be8f6155",
   "metadata": {},
   "outputs": [
    {
     "data": {
      "text/plain": [
       "Index(['exp', 'depth', 'probe', 'cNE', 'member', 'n_events', 'region',\n",
       "       'strf_ri_neuron_std', 'strf_ri_neuron_mean', 'strf_ri_cNE_std',\n",
       "       'strf_ri_cNE_mean', 'strf_ri_ne_spike_std', 'strf_ri_ne_spike_mean',\n",
       "       'crh_ri_neuron_std', 'crh_ri_neuron_mean', 'crh_ri_cNE_std',\n",
       "       'crh_ri_cNE_mean', 'crh_ri_ne_spike_std', 'crh_ri_ne_spike_mean',\n",
       "       'ptd_neuron', 'ptd_cNE', 'ptd_ne_spike', 'morani_neuron', 'morani_cNE',\n",
       "       'morani_ne_spike', 'asi_neuron', 'asi_cNE', 'asi_ne_spike', 'mi_neuron',\n",
       "       'mi_cNE', 'mi_ne_spike'],\n",
       "      dtype='object')"
      ]
     },
     "execution_count": 78,
     "metadata": {},
     "output_type": "execute_result"
    }
   ],
   "source": [
    "subsample_summary.columns"
   ]
  },
  {
   "cell_type": "code",
   "execution_count": 77,
   "id": "d259bbf0",
   "metadata": {},
   "outputs": [
    {
     "data": {
      "text/html": [
       "<div>\n",
       "<style scoped>\n",
       "    .dataframe tbody tr th:only-of-type {\n",
       "        vertical-align: middle;\n",
       "    }\n",
       "\n",
       "    .dataframe tbody tr th {\n",
       "        vertical-align: top;\n",
       "    }\n",
       "\n",
       "    .dataframe thead th {\n",
       "        text-align: right;\n",
       "    }\n",
       "</style>\n",
       "<table border=\"1\" class=\"dataframe\">\n",
       "  <thead>\n",
       "    <tr style=\"text-align: right;\">\n",
       "      <th></th>\n",
       "      <th>exp</th>\n",
       "      <th>depth</th>\n",
       "      <th>probe</th>\n",
       "      <th>cNE</th>\n",
       "      <th>member</th>\n",
       "      <th>n_events</th>\n",
       "      <th>region</th>\n",
       "      <th>strf_ri_neuron_std</th>\n",
       "      <th>strf_ri_neuron_mean</th>\n",
       "      <th>strf_ri_cNE_std</th>\n",
       "      <th>...</th>\n",
       "      <th>ptd_ne_spike</th>\n",
       "      <th>morani_neuron</th>\n",
       "      <th>morani_cNE</th>\n",
       "      <th>morani_ne_spike</th>\n",
       "      <th>asi_neuron</th>\n",
       "      <th>asi_cNE</th>\n",
       "      <th>asi_ne_spike</th>\n",
       "      <th>mi_neuron</th>\n",
       "      <th>mi_cNE</th>\n",
       "      <th>mi_ne_spike</th>\n",
       "    </tr>\n",
       "  </thead>\n",
       "  <tbody>\n",
       "    <tr>\n",
       "      <th>0</th>\n",
       "      <td>191126211411</td>\n",
       "      <td>5214</td>\n",
       "      <td>H31x64</td>\n",
       "      <td>0</td>\n",
       "      <td>3</td>\n",
       "      <td>110</td>\n",
       "      <td>MGB</td>\n",
       "      <td>0.066570</td>\n",
       "      <td>0.226557</td>\n",
       "      <td>0.074876</td>\n",
       "      <td>...</td>\n",
       "      <td>14.212218</td>\n",
       "      <td>0.440513</td>\n",
       "      <td>0.120513</td>\n",
       "      <td>0.514876</td>\n",
       "      <td>[0.9397776586000001, 0.9692648756000001, 0.976...</td>\n",
       "      <td>[0.9984261211000001, 0.9817603850000001, 0.999...</td>\n",
       "      <td>[0.9877793213, 0.9839006349, 0.976048345200000...</td>\n",
       "      <td>0.520279</td>\n",
       "      <td>0.191903</td>\n",
       "      <td>0.646441</td>\n",
       "    </tr>\n",
       "    <tr>\n",
       "      <th>1</th>\n",
       "      <td>191126211411</td>\n",
       "      <td>5214</td>\n",
       "      <td>H31x64</td>\n",
       "      <td>0</td>\n",
       "      <td>4</td>\n",
       "      <td>310</td>\n",
       "      <td>MGB</td>\n",
       "      <td>0.040067</td>\n",
       "      <td>0.125011</td>\n",
       "      <td>0.043553</td>\n",
       "      <td>...</td>\n",
       "      <td>9.086986</td>\n",
       "      <td>0.040847</td>\n",
       "      <td>0.299494</td>\n",
       "      <td>0.278361</td>\n",
       "      <td>[0.9713483322, 0.9874943793000001, 0.950943902...</td>\n",
       "      <td>[0.9780912045000001, 0.9842023667, 0.987667027...</td>\n",
       "      <td>[0.9694899299, 0.9737829552, 0.969200552800000...</td>\n",
       "      <td>0.031642</td>\n",
       "      <td>0.170907</td>\n",
       "      <td>0.152267</td>\n",
       "    </tr>\n",
       "    <tr>\n",
       "      <th>2</th>\n",
       "      <td>191126211411</td>\n",
       "      <td>5214</td>\n",
       "      <td>H31x64</td>\n",
       "      <td>0</td>\n",
       "      <td>9</td>\n",
       "      <td>255</td>\n",
       "      <td>MGB</td>\n",
       "      <td>0.039678</td>\n",
       "      <td>0.050478</td>\n",
       "      <td>0.047696</td>\n",
       "      <td>...</td>\n",
       "      <td>7.932154</td>\n",
       "      <td>0.040942</td>\n",
       "      <td>0.272909</td>\n",
       "      <td>0.132028</td>\n",
       "      <td>[0.9887476088, 0.9703931211000001, 0.985451692...</td>\n",
       "      <td>[0.9896080057000001, 0.9897658132, 0.970425003...</td>\n",
       "      <td>[0.9899654645, 0.9839901344, 0.985002527600000...</td>\n",
       "      <td>0.022128</td>\n",
       "      <td>0.125995</td>\n",
       "      <td>0.076688</td>\n",
       "    </tr>\n",
       "    <tr>\n",
       "      <th>3</th>\n",
       "      <td>191126211411</td>\n",
       "      <td>5214</td>\n",
       "      <td>H31x64</td>\n",
       "      <td>1</td>\n",
       "      <td>1</td>\n",
       "      <td>223</td>\n",
       "      <td>MGB</td>\n",
       "      <td>0.044431</td>\n",
       "      <td>0.042238</td>\n",
       "      <td>0.039549</td>\n",
       "      <td>...</td>\n",
       "      <td>6.110062</td>\n",
       "      <td>0.121482</td>\n",
       "      <td>0.227374</td>\n",
       "      <td>0.243429</td>\n",
       "      <td>[0.9782438755, 0.9675465013000001, 0.971609643...</td>\n",
       "      <td>[0.9698780177, 0.9475046831, 0.9689541169, 0.9...</td>\n",
       "      <td>[0.9666127711, 0.9484991887, 0.9398032977, 0.9...</td>\n",
       "      <td>0.019732</td>\n",
       "      <td>0.025234</td>\n",
       "      <td>0.006719</td>\n",
       "    </tr>\n",
       "    <tr>\n",
       "      <th>4</th>\n",
       "      <td>191126211411</td>\n",
       "      <td>5214</td>\n",
       "      <td>H31x64</td>\n",
       "      <td>1</td>\n",
       "      <td>8</td>\n",
       "      <td>224</td>\n",
       "      <td>MGB</td>\n",
       "      <td>0.041805</td>\n",
       "      <td>0.009178</td>\n",
       "      <td>0.038706</td>\n",
       "      <td>...</td>\n",
       "      <td>6.046699</td>\n",
       "      <td>0.062859</td>\n",
       "      <td>0.228393</td>\n",
       "      <td>0.216711</td>\n",
       "      <td>[0.9269670003, 0.8260092373, 0.7327413975, 0.9...</td>\n",
       "      <td>[0.9048392073, 0.9267671641, 0.9452582516, 0.9...</td>\n",
       "      <td>[0.9479726034, 0.944756907, 0.9568386542, 0.95...</td>\n",
       "      <td>-0.005443</td>\n",
       "      <td>0.032843</td>\n",
       "      <td>0.029224</td>\n",
       "    </tr>\n",
       "    <tr>\n",
       "      <th>5</th>\n",
       "      <td>191126211411</td>\n",
       "      <td>5214</td>\n",
       "      <td>H31x64</td>\n",
       "      <td>1</td>\n",
       "      <td>10</td>\n",
       "      <td>234</td>\n",
       "      <td>MGB</td>\n",
       "      <td>0.050552</td>\n",
       "      <td>-0.024985</td>\n",
       "      <td>0.038977</td>\n",
       "      <td>...</td>\n",
       "      <td>5.926192</td>\n",
       "      <td>0.116406</td>\n",
       "      <td>0.238589</td>\n",
       "      <td>0.256774</td>\n",
       "      <td>[0.9421423518, 0.9571858146000001, 0.971613852...</td>\n",
       "      <td>[0.9651556685, 0.8970344319, 0.972247311000000...</td>\n",
       "      <td>[0.9301741439000001, 0.927813371, 0.9522070545...</td>\n",
       "      <td>-0.002415</td>\n",
       "      <td>0.027192</td>\n",
       "      <td>0.050390</td>\n",
       "    </tr>\n",
       "    <tr>\n",
       "      <th>6</th>\n",
       "      <td>191126211411</td>\n",
       "      <td>5214</td>\n",
       "      <td>H31x64</td>\n",
       "      <td>2</td>\n",
       "      <td>1</td>\n",
       "      <td>191</td>\n",
       "      <td>MGB</td>\n",
       "      <td>0.037481</td>\n",
       "      <td>0.041456</td>\n",
       "      <td>0.046184</td>\n",
       "      <td>...</td>\n",
       "      <td>8.240224</td>\n",
       "      <td>0.102844</td>\n",
       "      <td>0.202565</td>\n",
       "      <td>0.211076</td>\n",
       "      <td>[0.9855687581, 0.9748279512, 0.9932841365, 0.9...</td>\n",
       "      <td>[0.9933768201000001, 0.9951354627000001, 0.997...</td>\n",
       "      <td>[0.9897748694, 0.9964273431, 0.9967097534, 0.9...</td>\n",
       "      <td>0.004557</td>\n",
       "      <td>0.160157</td>\n",
       "      <td>0.181287</td>\n",
       "    </tr>\n",
       "    <tr>\n",
       "      <th>7</th>\n",
       "      <td>191126211411</td>\n",
       "      <td>5214</td>\n",
       "      <td>H31x64</td>\n",
       "      <td>2</td>\n",
       "      <td>5</td>\n",
       "      <td>199</td>\n",
       "      <td>MGB</td>\n",
       "      <td>0.041457</td>\n",
       "      <td>0.039504</td>\n",
       "      <td>0.041908</td>\n",
       "      <td>...</td>\n",
       "      <td>8.316543</td>\n",
       "      <td>0.063519</td>\n",
       "      <td>0.212441</td>\n",
       "      <td>0.187738</td>\n",
       "      <td>[0.9897947402, 0.9857679014, 0.9956136605, 0.9...</td>\n",
       "      <td>[0.9890453505000001, 0.9917684319000001, 0.994...</td>\n",
       "      <td>[0.9959134773, 0.9927468795000001, 0.996180840...</td>\n",
       "      <td>0.018115</td>\n",
       "      <td>0.172340</td>\n",
       "      <td>0.145885</td>\n",
       "    </tr>\n",
       "    <tr>\n",
       "      <th>8</th>\n",
       "      <td>191126211411</td>\n",
       "      <td>5214</td>\n",
       "      <td>H31x64</td>\n",
       "      <td>2</td>\n",
       "      <td>7</td>\n",
       "      <td>162</td>\n",
       "      <td>MGB</td>\n",
       "      <td>0.060890</td>\n",
       "      <td>0.105026</td>\n",
       "      <td>0.051059</td>\n",
       "      <td>...</td>\n",
       "      <td>10.034155</td>\n",
       "      <td>0.328101</td>\n",
       "      <td>0.177712</td>\n",
       "      <td>0.195204</td>\n",
       "      <td>[0.9842340557, 0.9610865517, 0.9806526309, 0.9...</td>\n",
       "      <td>[0.9971558753, 0.9962529055, 0.992568571200000...</td>\n",
       "      <td>[0.9979936299000001, 0.9867161418, 0.988848339...</td>\n",
       "      <td>0.192352</td>\n",
       "      <td>0.128996</td>\n",
       "      <td>0.248995</td>\n",
       "    </tr>\n",
       "  </tbody>\n",
       "</table>\n",
       "<p>9 rows × 31 columns</p>\n",
       "</div>"
      ],
      "text/plain": [
       "            exp  depth   probe  cNE  member  n_events region  \\\n",
       "0  191126211411   5214  H31x64    0       3       110    MGB   \n",
       "1  191126211411   5214  H31x64    0       4       310    MGB   \n",
       "2  191126211411   5214  H31x64    0       9       255    MGB   \n",
       "3  191126211411   5214  H31x64    1       1       223    MGB   \n",
       "4  191126211411   5214  H31x64    1       8       224    MGB   \n",
       "5  191126211411   5214  H31x64    1      10       234    MGB   \n",
       "6  191126211411   5214  H31x64    2       1       191    MGB   \n",
       "7  191126211411   5214  H31x64    2       5       199    MGB   \n",
       "8  191126211411   5214  H31x64    2       7       162    MGB   \n",
       "\n",
       "   strf_ri_neuron_std  strf_ri_neuron_mean  strf_ri_cNE_std  ...  \\\n",
       "0            0.066570             0.226557         0.074876  ...   \n",
       "1            0.040067             0.125011         0.043553  ...   \n",
       "2            0.039678             0.050478         0.047696  ...   \n",
       "3            0.044431             0.042238         0.039549  ...   \n",
       "4            0.041805             0.009178         0.038706  ...   \n",
       "5            0.050552            -0.024985         0.038977  ...   \n",
       "6            0.037481             0.041456         0.046184  ...   \n",
       "7            0.041457             0.039504         0.041908  ...   \n",
       "8            0.060890             0.105026         0.051059  ...   \n",
       "\n",
       "   ptd_ne_spike  morani_neuron  morani_cNE  morani_ne_spike  \\\n",
       "0     14.212218       0.440513    0.120513         0.514876   \n",
       "1      9.086986       0.040847    0.299494         0.278361   \n",
       "2      7.932154       0.040942    0.272909         0.132028   \n",
       "3      6.110062       0.121482    0.227374         0.243429   \n",
       "4      6.046699       0.062859    0.228393         0.216711   \n",
       "5      5.926192       0.116406    0.238589         0.256774   \n",
       "6      8.240224       0.102844    0.202565         0.211076   \n",
       "7      8.316543       0.063519    0.212441         0.187738   \n",
       "8     10.034155       0.328101    0.177712         0.195204   \n",
       "\n",
       "                                          asi_neuron  \\\n",
       "0  [0.9397776586000001, 0.9692648756000001, 0.976...   \n",
       "1  [0.9713483322, 0.9874943793000001, 0.950943902...   \n",
       "2  [0.9887476088, 0.9703931211000001, 0.985451692...   \n",
       "3  [0.9782438755, 0.9675465013000001, 0.971609643...   \n",
       "4  [0.9269670003, 0.8260092373, 0.7327413975, 0.9...   \n",
       "5  [0.9421423518, 0.9571858146000001, 0.971613852...   \n",
       "6  [0.9855687581, 0.9748279512, 0.9932841365, 0.9...   \n",
       "7  [0.9897947402, 0.9857679014, 0.9956136605, 0.9...   \n",
       "8  [0.9842340557, 0.9610865517, 0.9806526309, 0.9...   \n",
       "\n",
       "                                             asi_cNE  \\\n",
       "0  [0.9984261211000001, 0.9817603850000001, 0.999...   \n",
       "1  [0.9780912045000001, 0.9842023667, 0.987667027...   \n",
       "2  [0.9896080057000001, 0.9897658132, 0.970425003...   \n",
       "3  [0.9698780177, 0.9475046831, 0.9689541169, 0.9...   \n",
       "4  [0.9048392073, 0.9267671641, 0.9452582516, 0.9...   \n",
       "5  [0.9651556685, 0.8970344319, 0.972247311000000...   \n",
       "6  [0.9933768201000001, 0.9951354627000001, 0.997...   \n",
       "7  [0.9890453505000001, 0.9917684319000001, 0.994...   \n",
       "8  [0.9971558753, 0.9962529055, 0.992568571200000...   \n",
       "\n",
       "                                        asi_ne_spike  mi_neuron    mi_cNE  \\\n",
       "0  [0.9877793213, 0.9839006349, 0.976048345200000...   0.520279  0.191903   \n",
       "1  [0.9694899299, 0.9737829552, 0.969200552800000...   0.031642  0.170907   \n",
       "2  [0.9899654645, 0.9839901344, 0.985002527600000...   0.022128  0.125995   \n",
       "3  [0.9666127711, 0.9484991887, 0.9398032977, 0.9...   0.019732  0.025234   \n",
       "4  [0.9479726034, 0.944756907, 0.9568386542, 0.95...  -0.005443  0.032843   \n",
       "5  [0.9301741439000001, 0.927813371, 0.9522070545...  -0.002415  0.027192   \n",
       "6  [0.9897748694, 0.9964273431, 0.9967097534, 0.9...   0.004557  0.160157   \n",
       "7  [0.9959134773, 0.9927468795000001, 0.996180840...   0.018115  0.172340   \n",
       "8  [0.9979936299000001, 0.9867161418, 0.988848339...   0.192352  0.128996   \n",
       "\n",
       "   mi_ne_spike  \n",
       "0     0.646441  \n",
       "1     0.152267  \n",
       "2     0.076688  \n",
       "3     0.006719  \n",
       "4     0.029224  \n",
       "5     0.050390  \n",
       "6     0.181287  \n",
       "7     0.145885  \n",
       "8     0.248995  \n",
       "\n",
       "[9 rows x 31 columns]"
      ]
     },
     "execution_count": 77,
     "metadata": {},
     "output_type": "execute_result"
    }
   ],
   "source": [
    "subsample_summary[subsample_summary.exp==191126211411]['']"
   ]
  },
  {
   "cell_type": "code",
   "execution_count": 81,
   "id": "ccab8655",
   "metadata": {},
   "outputs": [
    {
     "name": "stdout",
     "output_type": "stream",
     "text": [
      "MGB: neuron-0.18131661020123474, ne-0.21975985216624727\n",
      "A1: neuron-0.10087551153956868, ne-0.15678992813902046\n",
      "MGB: neuron-0.18131661020123474, ne-0.2523427722616672\n",
      "A1: neuron-0.10087551153956868, ne-0.1916093803453043\n",
      "MGB: neuron-0.12800111390073315, ne-0.2061157127117258\n",
      "A1: neuron-0.13933664469137347, ne-0.2086524566183414\n",
      "MGB: neuron-0.12800111390073315, ne-0.23904641710561172\n",
      "A1: neuron-0.13933664469137347, ne-0.2520799904131318\n"
     ]
    },
    {
     "data": {
      "image/png": "[encoded data removed]",
      "text/plain": [
       "<Figure size 108x108 with 1 Axes>"
      ]
     },
     "metadata": {
      "needs_background": "light"
     },
     "output_type": "display_data"
    },
    {
     "data": {
      "image/png": "[encoded data removed]",
      "text/plain": [
       "<Figure size 108x108 with 1 Axes>"
      ]
     },
     "metadata": {
      "needs_background": "light"
     },
     "output_type": "display_data"
    },
    {
     "data": {
      "image/png": "[encoded data removed]",
      "text/plain": [
       "<Figure size 108x108 with 1 Axes>"
      ]
     },
     "metadata": {
      "needs_background": "light"
     },
     "output_type": "display_data"
    },
    {
     "data": {
      "image/png": "[encoded data removed]",
      "text/plain": [
       "<Figure size 108x108 with 1 Axes>"
      ]
     },
     "metadata": {
      "needs_background": "light"
     },
     "output_type": "display_data"
    }
   ],
   "source": [
    "region_colors = [MGB_color[0], A1_color[0]]\n",
    "regions = ['MGB', 'A1']\n",
    "sig = 1\n",
    "data = subsample_summary[(subsample_summary.n_events > 100 )]\n",
    "for rf in ('strf', 'crh'):\n",
    "    if sig:\n",
    "        data = data[eval('data.{}_sig'.format(rf))]\n",
    "    for ne_param in ('cNE', 'ne_spike'):\n",
    "        fig = plt.figure()\n",
    "        plt.plot([-.1, 1], [-.1, 1], 'k')\n",
    "        sns.scatterplot(data=data, x='{}_ri_neuron_mean'.format(rf), y='{}_ri_{}_mean'.format(rf, ne_param), \n",
    "                    hue='region', palette=[MGB_color[0], A1_color[0]], hue_order=['MGB', 'A1'], \n",
    "                    s=5, legend=False)\n",
    "        plt.xlabel('neuron {} RI'.format(rf.upper()))\n",
    "        plt.ylabel('{} {} RI'.format(ne_param.replace('_', ' '), rf.upper()))\n",
    "        plt.xlim([-.1, 1])\n",
    "        plt.ylim([-.1, 1])\n",
    "\n",
    "        for i, region in enumerate(regions):\n",
    "            _, p = stats.wilcoxon(x=data[data.region==region]['{}_ri_neuron_mean'.format(rf)], \n",
    "                              y=data[data.region==region]['{}_ri_{}_mean'.format(rf, ne_param)])\n",
    "            plt.text(0, 0.8-0.15*i, 'p = {:.1e}'.format(p), color=region_colors[i])\n",
    "            print('{}: neuron-{}, ne-{}'.format(region, \n",
    "                                        data[data.region==region]['{}_ri_neuron_mean'.format(rf)].mean(), \n",
    "                                        data[data.region==region]['{}_ri_{}_mean'.format(rf, ne_param)].mean()))\n",
    "        fig.set_size_inches(1.5,1.5)\n",
    "        if sig:\n",
    "            plt.savefig(r'E:\\Congcong\\Documents\\data\\comparison\\figure\\cNE-properties\\{}_ri_neuron_vs_{}_sig.jpg'.format(rf, ne_param), bbox_inches='tight', dpi=300)\n",
    "        else:\n",
    "            plt.savefig(r'E:\\Congcong\\Documents\\data\\comparison\\figure\\cNE-properties\\{}_ri_neuron_vs_{}.jpg'.format(rf, ne_param), bbox_inches='tight', dpi=300)\n"
   ]
  },
  {
   "cell_type": "markdown",
   "id": "c3988869",
   "metadata": {},
   "source": [
    "#### strf PTD, crh moranI"
   ]
  },
  {
   "cell_type": "code",
   "execution_count": 88,
   "id": "9078cf01",
   "metadata": {},
   "outputs": [
    {
     "name": "stdout",
     "output_type": "stream",
     "text": [
      "MGB: neuron-10.968518860003467, ne-10.59403189046854\n",
      "A1: neuron-6.037292231960366, ne-6.222901062006525\n",
      "MGB: neuron-10.968518860003467, ne-11.609670677920397\n",
      "A1: neuron-6.037292231960366, ne-6.885229317425066\n",
      "MGB: neuron-0.17399143928342473, ne-0.23673363768945213\n",
      "A1: neuron-0.18391097723543473, ne-0.2465057901983696\n",
      "MGB: neuron-0.17399143928342473, ne-0.2633843468492465\n",
      "A1: neuron-0.18391097723543473, ne-0.28316778324510866\n"
     ]
    },
    {
     "data": {
      "image/png": "[encoded data removed]",
      "text/plain": [
       "<Figure size 108x108 with 1 Axes>"
      ]
     },
     "metadata": {
      "needs_background": "light"
     },
     "output_type": "display_data"
    },
    {
     "data": {
      "image/png": "[encoded data removed]",
      "text/plain": [
       "<Figure size 108x108 with 1 Axes>"
      ]
     },
     "metadata": {
      "needs_background": "light"
     },
     "output_type": "display_data"
    },
    {
     "data": {
      "image/png": "[encoded data removed]",
      "text/plain": [
       "<Figure size 108x108 with 1 Axes>"
      ]
     },
     "metadata": {
      "needs_background": "light"
     },
     "output_type": "display_data"
    },
    {
     "data": {
      "image/png": "[encoded data removed]",
      "text/plain": [
       "<Figure size 108x108 with 1 Axes>"
      ]
     },
     "metadata": {
      "needs_background": "light"
     },
     "output_type": "display_data"
    }
   ],
   "source": [
    "region_colors = [MGB_color[0], A1_color[0]]\n",
    "regions = ['MGB', 'A1']\n",
    "sig = 1\n",
    "data = subsample_summary[(subsample_summary.n_events > 100 )]\n",
    "param = {'strf': 'ptd', 'crh': 'morani'}\n",
    "for rf in ['strf', 'crh']:\n",
    "    if sig:\n",
    "        data = data[eval('data.{}_sig'.format(rf))]\n",
    "    for ne_param in ('cNE', 'ne_spike'):\n",
    "        fig = plt.figure()\n",
    "        plt.plot([-1, 25], [-1, 25], 'k')\n",
    "        sns.scatterplot(data=data, x='{}_neuron'.format(param[rf]), y='{}_{}'.format(param[rf], ne_param), \n",
    "                    hue='region', palette=[MGB_color[0], A1_color[0]], hue_order=['MGB', 'A1'], \n",
    "                    s=5, legend=False)\n",
    "        plt.xlabel('neuron {}'.format(param[rf].replace('_', ' ').upper()))\n",
    "        plt.ylabel('{} {}'.format(ne_param.replace('_', ' '), param[rf].replace('_', ' ').upper()))\n",
    "        if rf == 'strf':\n",
    "            plt.xlim([0, 25])\n",
    "            plt.ylim([0, 25])\n",
    "        else:\n",
    "            plt.xlim([-.1, 1])\n",
    "            plt.ylim([-.1, 1])\n",
    "\n",
    "        for i, region in enumerate(regions):\n",
    "            _, p = stats.wilcoxon(x=data[data.region==region]['{}_neuron'.format(param[rf])], \n",
    "                              y=data[data.region==region]['{}_{}'.format(param[rf], ne_param)])\n",
    "            if rf == 'strf':\n",
    "                plt.text(0, 18-2*i, 'p = {:.1e}'.format(p), color=region_colors[i])\n",
    "            else:\n",
    "                plt.text(0, .9-.1*i, 'p = {:.1e}'.format(p), color=region_colors[i])\n",
    "            print('{}: neuron-{}, ne-{}'.format(region, \n",
    "                                        data[data.region==region]['{}_neuron'.format(param[rf])].mean(), \n",
    "                                        data[data.region==region]['{}_{}'.format(param[rf], ne_param)].mean()))\n",
    "        fig.set_size_inches(1.5,1.5)\n",
    "        if sig:\n",
    "            plt.savefig(r'E:\\Congcong\\Documents\\data\\comparison\\figure\\cNE-properties\\{}_neuron_vs_{}_sig.jpg'.format(param[rf], ne_param), bbox_inches='tight', dpi=300)\n",
    "        else:\n",
    "            plt.savefig(r'E:\\Congcong\\Documents\\data\\comparison\\figure\\cNE-properties\\{}_neuron_vs_{}.jpg'.format(param[rf], ne_param), bbox_inches='tight', dpi=300)\n"
   ]
  },
  {
   "cell_type": "markdown",
   "id": "bdbe266a",
   "metadata": {},
   "source": [
    "#### strf nonlinearity (ASI) and mutual information"
   ]
  },
  {
   "cell_type": "code",
   "execution_count": 89,
   "id": "174d06db",
   "metadata": {},
   "outputs": [
    {
     "name": "stdout",
     "output_type": "stream",
     "text": [
      "MGB: neuron-0.16105877552173078, ne-0.31047645612711544\n",
      "A1: neuron-0.1149700484963235, ne-0.14346199234279414\n",
      "MGB: neuron-0.16105877552173078, ne-0.4066546255203205\n",
      "A1: neuron-0.1149700484963235, ne-0.2414113601508087\n"
     ]
    },
    {
     "data": {
      "image/png": "[encoded data removed]",
      "text/plain": [
       "<Figure size 108x108 with 1 Axes>"
      ]
     },
     "metadata": {
      "needs_background": "light"
     },
     "output_type": "display_data"
    },
    {
     "data": {
      "image/png": "[encoded data removed]",
      "text/plain": [
       "<Figure size 108x108 with 1 Axes>"
      ]
     },
     "metadata": {
      "needs_background": "light"
     },
     "output_type": "display_data"
    }
   ],
   "source": [
    "region_colors = [MGB_color[0], A1_color[0]]\n",
    "regions = ['MGB', 'A1']\n",
    "sig = 1\n",
    "data = subsample_summary[(subsample_summary.n_events > 100 )]\n",
    "for param in ['mi']:\n",
    "    if sig:\n",
    "        data = data[eval('data.{}_sig'.format(rf))]\n",
    "    for ne_param in ('cNE', 'ne_spike'):\n",
    "        fig = plt.figure()\n",
    "        plt.plot([-1, 25], [-1, 25], 'k')\n",
    "        sns.scatterplot(data=data, x='{}_neuron'.format(param), y='{}_{}'.format(param, ne_param), \n",
    "                    hue='region', palette=[MGB_color[0], A1_color[0]], hue_order=['MGB', 'A1'], \n",
    "                    s=5, legend=False)\n",
    "        plt.xlabel('neuron {}'.format(param.replace('_', ' ').upper()))\n",
    "        plt.ylabel('{} {}'.format(ne_param.replace('_', ' '), param.replace('_', ' ').upper()))\n",
    "        if param == 'asi':\n",
    "            plt.xlim([.5, 1])\n",
    "            plt.ylim([.5, 1])\n",
    "        else:\n",
    "            plt.xlim([-.1, 1])\n",
    "            plt.ylim([-.1, 1])\n",
    "\n",
    "        for i, region in enumerate(regions):\n",
    "            _, p = stats.wilcoxon(x=data[data.region==region]['{}_neuron'.format(param)], \n",
    "                              y=data[data.region==region]['{}_{}'.format(param, ne_param)])\n",
    "            if param == 'asi':\n",
    "                plt.text(.55, .9-.05*i, 'p = {:.1e}'.format(p), color=region_colors[i])\n",
    "            else:\n",
    "                plt.text(0, .9-.1*i, 'p = {:.1e}'.format(p), color=region_colors[i])\n",
    "            print('{}: neuron-{}, ne-{}'.format(region, \n",
    "                                        data[data.region==region]['{}_neuron'.format(param)].mean(), \n",
    "                                        data[data.region==region]['{}_{}'.format(param, ne_param)].mean()))\n",
    "        fig.set_size_inches(1.5,1.5)\n",
    "        if sig:\n",
    "            plt.savefig(r'E:\\Congcong\\Documents\\data\\comparison\\figure\\cNE-properties\\{}_neuron_vs_{}_sig.jpg'.format(param, ne_param), bbox_inches='tight', dpi=300)\n",
    "        else:\n",
    "            plt.savefig(r'E:\\Congcong\\Documents\\data\\comparison\\figure\\cNE-properties\\{}_neuron_vs_{}.jpg'.format(param, ne_param), bbox_inches='tight', dpi=300)\n"
   ]
  },
  {
   "cell_type": "code",
   "execution_count": null,
   "id": "677aa033",
   "metadata": {},
   "outputs": [],
   "source": []
  }
 ],
 "metadata": {
  "kernelspec": {
   "display_name": "Python 3 (ipykernel)",
   "language": "python",
   "name": "python3"
  },
  "language_info": {
   "codemirror_mode": {
    "name": "ipython",
    "version": 3
   },
   "file_extension": ".py",
   "mimetype": "text/x-python",
   "name": "python",
   "nbconvert_exporter": "python",
   "pygments_lexer": "ipython3",
   "version": "3.9.7"
  }
 },
 "nbformat": 4,
 "nbformat_minor": 5
}
