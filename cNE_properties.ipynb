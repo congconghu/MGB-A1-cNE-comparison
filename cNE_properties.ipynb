{
 "cells": [
  {
   "cell_type": "markdown",
   "id": "b465d05b",
   "metadata": {},
   "source": [
    "# Aim\n",
    "\n",
    "The aim of the anaylsis is to get basic cNE properties and compare properties of cNEs in A1 and MGB"
   ]
  },
  {
   "cell_type": "code",
   "execution_count": 1,
   "id": "8918688a",
   "metadata": {},
   "outputs": [],
   "source": [
    "import os\n",
    "import glob\n",
    "import pickle\n",
    "import pandas as pd\n",
    "import numpy as np\n",
    "import matplotlib.pyplot as plt\n",
    "import seaborn as sns\n",
    "\n",
    "from scipy import signal, stats\n",
    "from scipy.stats import zscore\n",
    "from plot_box import plot_significance_star\n",
    "from ne_toolbox import moran_i, calc_strf_ptd\n",
    "\n",
    "\n",
    "\n",
    "# get colors for box plots\n",
    "colors = sns.color_palette(\"Paired\")\n",
    "A1_color = (colors[1], colors[0], colors[3], colors[2])\n",
    "MGB_color = (colors[5], colors[4], colors[7], colors[6])\n",
    "colors = list(MGB_color) + list(A1_color)"
   ]
  },
  {
   "cell_type": "code",
   "execution_count": 2,
   "id": "87f11e62",
   "metadata": {},
   "outputs": [],
   "source": [
    "datafolder = 'E:\\Congcong\\Documents\\data\\comparison\\data-summary'\n",
    "ne_file = os.path.join(datafolder, 'cNE.json')\n",
    "ne = pd.read_json(ne_file)\n",
    "su = pd.read_json(os.path.join(datafolder, 'single_units.json'))"
   ]
  },
  {
   "cell_type": "code",
   "execution_count": 3,
   "id": "2da001c6",
   "metadata": {},
   "outputs": [
    {
     "data": {
      "text/html": [
       "<div>\n",
       "<style scoped>\n",
       "    .dataframe tbody tr th:only-of-type {\n",
       "        vertical-align: middle;\n",
       "    }\n",
       "\n",
       "    .dataframe tbody tr th {\n",
       "        vertical-align: top;\n",
       "    }\n",
       "\n",
       "    .dataframe thead th {\n",
       "        text-align: right;\n",
       "    }\n",
       "</style>\n",
       "<table border=\"1\" class=\"dataframe\">\n",
       "  <thead>\n",
       "    <tr style=\"text-align: right;\">\n",
       "      <th></th>\n",
       "      <th>exp</th>\n",
       "      <th>probe</th>\n",
       "      <th>depth</th>\n",
       "      <th>cNE</th>\n",
       "      <th>members</th>\n",
       "      <th>pattern</th>\n",
       "      <th>strf_sig</th>\n",
       "      <th>crh_sig</th>\n",
       "      <th>freq_span_oct</th>\n",
       "      <th>region</th>\n",
       "    </tr>\n",
       "  </thead>\n",
       "  <tbody>\n",
       "    <tr>\n",
       "      <th>0</th>\n",
       "      <td>191126211411</td>\n",
       "      <td>H31x64</td>\n",
       "      <td>5214</td>\n",
       "      <td>0</td>\n",
       "      <td>[3, 4, 9]</td>\n",
       "      <td>[-0.0756121417, 0.0515729986, 0.0342513859, 0....</td>\n",
       "      <td>True</td>\n",
       "      <td>False</td>\n",
       "      <td>3.211138</td>\n",
       "      <td>MGB</td>\n",
       "    </tr>\n",
       "    <tr>\n",
       "      <th>1</th>\n",
       "      <td>191126211411</td>\n",
       "      <td>H31x64</td>\n",
       "      <td>5214</td>\n",
       "      <td>1</td>\n",
       "      <td>[1, 8, 10]</td>\n",
       "      <td>[0.2273610862, 0.2949384624, 0.240309528300000...</td>\n",
       "      <td>False</td>\n",
       "      <td>True</td>\n",
       "      <td>3.010442</td>\n",
       "      <td>MGB</td>\n",
       "    </tr>\n",
       "    <tr>\n",
       "      <th>2</th>\n",
       "      <td>191126211411</td>\n",
       "      <td>H31x64</td>\n",
       "      <td>5214</td>\n",
       "      <td>2</td>\n",
       "      <td>[1, 5, 7]</td>\n",
       "      <td>[0.0742804231, 0.45692949320000004, -0.4728641...</td>\n",
       "      <td>True</td>\n",
       "      <td>True</td>\n",
       "      <td>2.107309</td>\n",
       "      <td>MGB</td>\n",
       "    </tr>\n",
       "    <tr>\n",
       "      <th>3</th>\n",
       "      <td>200127153707</td>\n",
       "      <td>H31x64</td>\n",
       "      <td>5004</td>\n",
       "      <td>0</td>\n",
       "      <td>[0, 3, 6]</td>\n",
       "      <td>[0.4240616038, 0.09859236900000001, 0.26063851...</td>\n",
       "      <td>False</td>\n",
       "      <td>False</td>\n",
       "      <td>2.207657</td>\n",
       "      <td>MGB</td>\n",
       "    </tr>\n",
       "    <tr>\n",
       "      <th>4</th>\n",
       "      <td>200709232021</td>\n",
       "      <td>H22x32</td>\n",
       "      <td>1300</td>\n",
       "      <td>0</td>\n",
       "      <td>[7, 13, 16, 20]</td>\n",
       "      <td>[0.047847763700000004, 0.08136203630000001, 0....</td>\n",
       "      <td>True</td>\n",
       "      <td>True</td>\n",
       "      <td>0.401392</td>\n",
       "      <td>A1</td>\n",
       "    </tr>\n",
       "  </tbody>\n",
       "</table>\n",
       "</div>"
      ],
      "text/plain": [
       "            exp   probe  depth  cNE          members  \\\n",
       "0  191126211411  H31x64   5214    0        [3, 4, 9]   \n",
       "1  191126211411  H31x64   5214    1       [1, 8, 10]   \n",
       "2  191126211411  H31x64   5214    2        [1, 5, 7]   \n",
       "3  200127153707  H31x64   5004    0        [0, 3, 6]   \n",
       "4  200709232021  H22x32   1300    0  [7, 13, 16, 20]   \n",
       "\n",
       "                                             pattern  strf_sig  crh_sig  \\\n",
       "0  [-0.0756121417, 0.0515729986, 0.0342513859, 0....      True    False   \n",
       "1  [0.2273610862, 0.2949384624, 0.240309528300000...     False     True   \n",
       "2  [0.0742804231, 0.45692949320000004, -0.4728641...      True     True   \n",
       "3  [0.4240616038, 0.09859236900000001, 0.26063851...     False    False   \n",
       "4  [0.047847763700000004, 0.08136203630000001, 0....      True     True   \n",
       "\n",
       "   freq_span_oct region  \n",
       "0       3.211138    MGB  \n",
       "1       3.010442    MGB  \n",
       "2       2.107309    MGB  \n",
       "3       2.207657    MGB  \n",
       "4       0.401392     A1  "
      ]
     },
     "execution_count": 3,
     "metadata": {},
     "output_type": "execute_result"
    }
   ],
   "source": [
    "ne.head()"
   ]
  },
  {
   "cell_type": "markdown",
   "id": "4422a136",
   "metadata": {},
   "source": [
    "### Add Features (Run Once)"
   ]
  },
  {
   "cell_type": "code",
   "execution_count": 4,
   "id": "07c1c62e",
   "metadata": {},
   "outputs": [],
   "source": [
    "# add frequency span of all members\n",
    "freq_span = []\n",
    "su_sig = su[su.strf_sig]\n",
    "for i in range(len(ne)):\n",
    "    cNE = ne.iloc[i]\n",
    "    exp = cNE.exp\n",
    "    probe = cNE.probe\n",
    "    members = su_sig[(su_sig.exp == exp) & (su_sig.probe == probe)]\n",
    "    members = members[members['index'].apply(lambda x: x in cNE.members)]\n",
    "    # get frequency span of members\n",
    "    if len(members) > 1:\n",
    "        freq_span.append(np.log2(members.bf.max() / members.bf.min()))\n",
    "    else:\n",
    "        freq_span.append(np.nan)\n",
    "\n",
    "ne['freq_span_oct'] = freq_span\n",
    "\n",
    "# add region of the recording\n",
    "region = ['MGB' if x == 'H31x64' else 'A1' for x in ne['probe']]\n",
    "ne['region'] = region\n",
    "ne.to_json(ne_file)"
   ]
  },
  {
   "cell_type": "markdown",
   "id": "7a90a269",
   "metadata": {},
   "source": [
    "#### combine json file"
   ]
  },
  {
   "cell_type": "code",
   "execution_count": 44,
   "id": "6625a1ac",
   "metadata": {},
   "outputs": [],
   "source": [
    "datafolder = 'E:\\Congcong\\Documents\\data\\comparison\\data-summary\\subsample'\n",
    "files = glob.glob(os.path.join(datafolder, '*.json'))\n",
    "data_all = pd.DataFrame()\n",
    "for file in files:\n",
    "    data = pd.read_json(file)\n",
    "    data_all = pd.concat([data_all, data])\n",
    "data_all.reset_index(inplace=True, drop=True)\n",
    "data_all.to_json(r'E:\\Congcong\\Documents\\data\\comparison\\data-summary\\subsample_ne_neuron.json')"
   ]
  },
  {
   "cell_type": "markdown",
   "id": "16668604",
   "metadata": {},
   "source": [
    "#### reliability index PTD, Moran's I, ASI, MI from subsampled units"
   ]
  },
  {
   "cell_type": "code",
   "execution_count": 45,
   "id": "4e9f91d3",
   "metadata": {},
   "outputs": [
    {
     "name": "stdout",
     "output_type": "stream",
     "text": [
      "1089\n"
     ]
    }
   ],
   "source": [
    "datafolder = 'E:\\Congcong\\Documents\\data\\comparison\\data-summary'\n",
    "subsample_file = os.path.join(datafolder, 'subsample_ne_neuron.json')\n",
    "subsample = pd.read_json(subsample_file)\n",
    "\n",
    "region = ['MGB' if x == 'H31x64' else 'A1' for x in subsample.probe]\n",
    "subsample['region'] = region\n",
    "\n",
    "for rf in ('strf', 'crh'):\n",
    "    for ri in ('_ri_neuron', '_ri_cNE', '_ri_ne_spike'):\n",
    "        # flatten the columns contaning ri\n",
    "        subsample[rf+ri] = subsample[rf+ri].apply(lambda x:np.array(x, dtype=np.float64)).apply(lambda x: x.flatten())\n",
    "        # get ri std\n",
    "        subsample[rf+ri+'_std'] =  subsample[rf+ri].apply(np.nanstd)\n",
    "        # get ri mean\n",
    "        subsample[rf+ri+'_mean'] =  subsample[rf+ri].apply(np.nanmean)\n",
    "        \n",
    "subsample = pd.merge(subsample,ne[['exp', 'depth', 'cNE', 'strf_sig', 'crh_sig']], on=['exp', 'depth', 'cNE'])\n",
    "subsample.to_json('E:\\Congcong\\Documents\\data\\comparison\\data-summary\\subsample_ne_neuron.json')\n",
    "print(len(subsample))"
   ]
  },
  {
   "cell_type": "code",
   "execution_count": 46,
   "id": "9e7fdd1c",
   "metadata": {},
   "outputs": [
    {
     "data": {
      "text/plain": [
       "Index(['exp', 'depth', 'probe', 'cNE', 'member', 'n_events', 'strf_neuron',\n",
       "       'strf_cNE', 'strf_ne_spike', 'strf_ri_neuron', 'strf_ri_cNE',\n",
       "       'strf_ri_ne_spike', 'crh_neuron', 'crh_cNE', 'crh_ne_spike',\n",
       "       'crh_ri_neuron', 'crh_ri_cNE', 'crh_ri_ne_spike', 'ptd_neuron',\n",
       "       'ptd_cNE', 'ptd_ne_spike', 'morani_neuron', 'morani_cNE',\n",
       "       'morani_ne_spike', 'asi_neuron', 'asi_cNE', 'asi_ne_spike', 'mi_neuron',\n",
       "       'mi_cNE', 'mi_ne_spike', 'mi_raw_neuron', 'mi_raw_cNE',\n",
       "       'mi_raw_ne_spike', 'nonlin_centers_neuron', 'nonlin_centers_cNE',\n",
       "       'nonlin_centers_ne_spike', 'nonlin_fr_neuron', 'nonlin_fr_cNE',\n",
       "       'nonlin_fr_ne_spike', 'region', 'strf_ri_neuron_std',\n",
       "       'strf_ri_neuron_mean', 'strf_ri_cNE_std', 'strf_ri_cNE_mean',\n",
       "       'strf_ri_ne_spike_std', 'strf_ri_ne_spike_mean', 'crh_ri_neuron_std',\n",
       "       'crh_ri_neuron_mean', 'crh_ri_cNE_std', 'crh_ri_cNE_mean',\n",
       "       'crh_ri_ne_spike_std', 'crh_ri_ne_spike_mean', 'strf_sig', 'crh_sig'],\n",
       "      dtype='object')"
      ]
     },
     "execution_count": 46,
     "metadata": {},
     "output_type": "execute_result"
    }
   ],
   "source": [
    "subsample.columns"
   ]
  },
  {
   "cell_type": "code",
   "execution_count": 47,
   "id": "79666ade",
   "metadata": {},
   "outputs": [],
   "source": [
    "for unit_type in ('_neuron', '_cNE', '_ne_spike'):\n",
    "    subsample['ptd' + unit_type] = subsample['ptd' + unit_type].apply(np.nanmean)\n",
    "    subsample['morani' + unit_type] = subsample['morani' + unit_type].apply(np.nanmean)\n",
    "    #subsample['asi' + unit_type] = subsample['asi' + unit_type].apply(np.nanmean)\n",
    "    subsample['mi' + unit_type] = subsample['mi' + unit_type].apply(np.nanmean)\n",
    "subsample_summary = subsample[['exp', 'depth', 'probe', 'cNE', 'member', 'n_events', 'region', \n",
    "                               'strf_ri_neuron_std', 'strf_ri_neuron_mean', \n",
    "                               'strf_ri_cNE_std', 'strf_ri_cNE_mean',\n",
    "                               'strf_ri_ne_spike_std', 'strf_ri_ne_spike_mean', \n",
    "                               'crh_ri_neuron_std', 'crh_ri_neuron_mean', \n",
    "                               'crh_ri_cNE_std', 'crh_ri_cNE_mean',\n",
    "                               'crh_ri_ne_spike_std', 'crh_ri_ne_spike_mean',\n",
    "                               'ptd_neuron', 'ptd_cNE', 'ptd_ne_spike', \n",
    "                               'morani_neuron', 'morani_cNE', 'morani_ne_spike', \n",
    "                               'asi_neuron', 'asi_cNE', 'asi_ne_spike', \n",
    "                               'mi_neuron', 'mi_cNE', 'mi_ne_spike','strf_sig', 'crh_sig']]\n",
    "subsample_summary.to_json('E:\\Congcong\\Documents\\data\\comparison\\data-summary\\subsample_ne_neuron_summary.json')"
   ]
  },
  {
   "cell_type": "markdown",
   "id": "758ea28f",
   "metadata": {},
   "source": [
    "### Stimulus Encoding Properties of cNEs"
   ]
  },
  {
   "cell_type": "markdown",
   "id": "ce494f1f",
   "metadata": {},
   "source": [
    "#### frequency span: strf+ vs strf- cNEs"
   ]
  },
  {
   "cell_type": "code",
   "execution_count": 48,
   "id": "3534b14a",
   "metadata": {},
   "outputs": [
    {
     "name": "stdout",
     "output_type": "stream",
     "text": [
      "significance test: sig vs nonsig\n",
      "MannwhitneyuResult(statistic=1279.0, pvalue=0.5258162240379365)\n",
      "MannwhitneyuResult(statistic=611.0, pvalue=0.1763224774836354)\n"
     ]
    },
    {
     "data": {
      "image/png": "[encoded data removed]",
      "text/plain": [
       "<Figure size 432x288 with 1 Axes>"
      ]
     },
     "metadata": {
      "needs_background": "light"
     },
     "output_type": "display_data"
    }
   ],
   "source": [
    "fig = plt.figure()\n",
    "ax = fig.add_axes([0.1, 0.1, 0.8, 0.8]) \n",
    "my_order = ['MGB_True', 'MGB_False', 'A1_True', 'A1_False']\n",
    "palette = MGB_color[:2] + A1_color[:2]\n",
    "ne['region_sig'] = ne[['region', 'strf_sig']].apply(tuple, axis=1)\n",
    "ne['region_sig'] = ne['region_sig'].apply(lambda x: '_'.join([str(y) for y in x]))\n",
    "sns.stripplot(x='region_sig', y='freq_span_oct', data=ne, order=my_order,\n",
    "              hue='region_sig', hue_order=my_order, palette=palette,\n",
    "              jitter=0.3, s=3, legend=False)\n",
    "bplot = sns.boxplot(x='region_sig', y='freq_span_oct', data=ne, order=my_order, \n",
    "                    width=0.6, notch=True, flierprops={'marker': ''})\n",
    "for i,box_col in enumerate(palette):\n",
    "    \n",
    "        mybox = bplot.patches[i]\n",
    "    \n",
    "        mybox.set_edgecolor(box_col)\n",
    "        mybox.set_facecolor('w')\n",
    "\n",
    "        for j in range(i*6,i*6+6):\n",
    "            line = bplot.lines[j]\n",
    "            line.set_color(box_col)\n",
    "            line.set_mfc(box_col)\n",
    "            line.set_mec(box_col)\n",
    "xlabels = ['\\n'.join(x.split('_')) for x in my_order]\n",
    "xlabels = [x.replace('True', '+') for x in xlabels]\n",
    "xlabels = [x.replace('False', '-') for x in xlabels]\n",
    "\n",
    "ax.set_xticklabels(xlabels)\n",
    "ax.set_xlim([-1, 4])\n",
    "ax.set_ylabel('frequency span (oct)')\n",
    "ax.set_xlabel('')\n",
    "\n",
    "# significance test between 2 regions\n",
    "print('significance test: sig vs nonsig')\n",
    "for i in range(2):\n",
    "    x=ne[ne['region_sig'] == my_order[i*2]]['freq_span_oct']\n",
    "    y=ne[ne['region_sig'] == my_order[i*2+1]]['freq_span_oct']\n",
    "    res = stats.mannwhitneyu(x=x[~np.isnan(x)], \n",
    "                            y=y[~np.isnan(y)])\n",
    "    print(res)\n",
    "    p = res.pvalue\n",
    "\n",
    "    plot_significance_star(ax, p, [i*2, i*2+1], 5, 5)\n",
    "plt.savefig(r'E:\\Congcong\\Documents\\data\\comparison\\figure\\cNE-properties\\frequency_span_strf_sig.png', bbox_inches='tight', dpi=300)"
   ]
  },
  {
   "cell_type": "markdown",
   "id": "f183ab84",
   "metadata": {},
   "source": [
    "#### cNE RI vs neuron RI (strf/crh)"
   ]
  },
  {
   "cell_type": "code",
   "execution_count": 49,
   "id": "be8f6155",
   "metadata": {},
   "outputs": [
    {
     "data": {
      "text/plain": [
       "Index(['exp', 'depth', 'probe', 'cNE', 'member', 'n_events', 'region',\n",
       "       'strf_ri_neuron_std', 'strf_ri_neuron_mean', 'strf_ri_cNE_std',\n",
       "       'strf_ri_cNE_mean', 'strf_ri_ne_spike_std', 'strf_ri_ne_spike_mean',\n",
       "       'crh_ri_neuron_std', 'crh_ri_neuron_mean', 'crh_ri_cNE_std',\n",
       "       'crh_ri_cNE_mean', 'crh_ri_ne_spike_std', 'crh_ri_ne_spike_mean',\n",
       "       'ptd_neuron', 'ptd_cNE', 'ptd_ne_spike', 'morani_neuron', 'morani_cNE',\n",
       "       'morani_ne_spike', 'asi_neuron', 'asi_cNE', 'asi_ne_spike', 'mi_neuron',\n",
       "       'mi_cNE', 'mi_ne_spike', 'strf_sig', 'crh_sig'],\n",
       "      dtype='object')"
      ]
     },
     "execution_count": 49,
     "metadata": {},
     "output_type": "execute_result"
    }
   ],
   "source": [
    "subsample_summary.columns"
   ]
  },
  {
   "cell_type": "code",
   "execution_count": 50,
   "id": "ccab8655",
   "metadata": {},
   "outputs": [
    {
     "name": "stdout",
     "output_type": "stream",
     "text": [
      "MGB: neuron-0.17463109974028307, ne-0.22431372747316294\n",
      "A1: neuron-0.1048509048170248, ne-0.1620659176867196\n",
      "MGB: neuron-0.17463109974028307, ne-0.25575483446348357\n",
      "A1: neuron-0.1048509048170248, ne-0.1962034130114141\n",
      "MGB: neuron-0.13429749524045062, ne-0.21924793194420786\n",
      "A1: neuron-0.15078165129223622, ne-0.21593923327604603\n",
      "MGB: neuron-0.13429749524045062, ne-0.2492672726996509\n",
      "A1: neuron-0.15078165129223622, ne-0.26402010049129826\n"
     ]
    },
    {
     "data": {
      "image/png": "[encoded data removed]",
      "text/plain": [
       "<Figure size 108x108 with 1 Axes>"
      ]
     },
     "metadata": {
      "needs_background": "light"
     },
     "output_type": "display_data"
    },
    {
     "data": {
      "image/png": "[encoded data removed]",
      "text/plain": [
       "<Figure size 108x108 with 1 Axes>"
      ]
     },
     "metadata": {
      "needs_background": "light"
     },
     "output_type": "display_data"
    },
    {
     "data": {
      "image/png": "[encoded data removed]",
      "text/plain": [
       "<Figure size 108x108 with 1 Axes>"
      ]
     },
     "metadata": {
      "needs_background": "light"
     },
     "output_type": "display_data"
    },
    {
     "data": {
      "image/png": "[encoded data removed]",
      "text/plain": [
       "<Figure size 108x108 with 1 Axes>"
      ]
     },
     "metadata": {
      "needs_background": "light"
     },
     "output_type": "display_data"
    }
   ],
   "source": [
    "region_colors = [MGB_color[0], A1_color[0]]\n",
    "regions = ['MGB', 'A1']\n",
    "sig = 1\n",
    "data = subsample_summary[(subsample_summary.n_events > 100 )]\n",
    "for rf in ('strf', 'crh'):\n",
    "    if sig:\n",
    "        data = data[eval('data.{}_sig'.format(rf))]\n",
    "    for ne_param in ('cNE', 'ne_spike'):\n",
    "        fig = plt.figure()\n",
    "        plt.plot([-.1, 1], [-.1, 1], 'k')\n",
    "        sns.scatterplot(data=data, x='{}_ri_neuron_mean'.format(rf), y='{}_ri_{}_mean'.format(rf, ne_param), \n",
    "                    hue='region', palette=[MGB_color[0], A1_color[0]], hue_order=['MGB', 'A1'], \n",
    "                    s=5, legend=False)\n",
    "        plt.xlabel('neuron {} RI'.format(rf.upper()))\n",
    "        plt.ylabel('{} {} RI'.format(ne_param.replace('_', ' '), rf.upper()))\n",
    "        plt.xlim([-.1, 1])\n",
    "        plt.ylim([-.1, 1])\n",
    "\n",
    "        for i, region in enumerate(regions):\n",
    "            _, p = stats.wilcoxon(x=data[data.region==region]['{}_ri_neuron_mean'.format(rf)], \n",
    "                              y=data[data.region==region]['{}_ri_{}_mean'.format(rf, ne_param)])\n",
    "            plt.text(0, 0.8-0.15*i, 'p = {:.1e}'.format(p), color=region_colors[i])\n",
    "            print('{}: neuron-{}, ne-{}'.format(region, \n",
    "                                        data[data.region==region]['{}_ri_neuron_mean'.format(rf)].mean(), \n",
    "                                        data[data.region==region]['{}_ri_{}_mean'.format(rf, ne_param)].mean()))\n",
    "        fig.set_size_inches(1.5,1.5)\n",
    "        if sig:\n",
    "            plt.savefig(r'E:\\Congcong\\Documents\\data\\comparison\\figure\\cNE-properties\\{}_ri_neuron_vs_{}_sig.jpg'.format(rf, ne_param), bbox_inches='tight', dpi=300)\n",
    "        else:\n",
    "            plt.savefig(r'E:\\Congcong\\Documents\\data\\comparison\\figure\\cNE-properties\\{}_ri_neuron_vs_{}.jpg'.format(rf, ne_param), bbox_inches='tight', dpi=300)\n"
   ]
  },
  {
   "cell_type": "markdown",
   "id": "c3988869",
   "metadata": {},
   "source": [
    "#### strf PTD, crh moranI"
   ]
  },
  {
   "cell_type": "code",
   "execution_count": 51,
   "id": "9078cf01",
   "metadata": {},
   "outputs": [
    {
     "name": "stdout",
     "output_type": "stream",
     "text": [
      "MGB: p=0.4413366669132045, neuron-10.594286595912589, ne-10.569037851777962\n",
      "A1: p=5.063984372389678e-05, neuron-6.0286957075857845, ne-6.167482422449197\n",
      "MGB: p=1.6050452281929593e-08, neuron-10.594286595912589, ne-11.528292292691818\n",
      "A1: p=5.798289602010327e-23, neuron-6.0286957075857845, ne-6.853021898527298\n",
      "MGB: p=1.347803676712975e-12, neuron-0.17651171394642862, ne-0.24875327546230755\n",
      "A1: p=5.21378547303171e-06, neuron-0.19508240312437963, ne-0.25907416184284676\n",
      "MGB: p=1.742918917361536e-20, neuron-0.17651171394642862, ne-0.2722425236946154\n",
      "A1: p=1.4570511255624678e-18, neuron-0.19508240312437963, ne-0.29594868090664217\n"
     ]
    },
    {
     "data": {
      "image/png": "[encoded data removed]",
      "text/plain": [
       "<Figure size 108x108 with 1 Axes>"
      ]
     },
     "metadata": {
      "needs_background": "light"
     },
     "output_type": "display_data"
    },
    {
     "data": {
      "image/png": "[encoded data removed]",
      "text/plain": [
       "<Figure size 108x108 with 1 Axes>"
      ]
     },
     "metadata": {
      "needs_background": "light"
     },
     "output_type": "display_data"
    },
    {
     "data": {
      "image/png": "[encoded data removed]",
      "text/plain": [
       "<Figure size 108x108 with 1 Axes>"
      ]
     },
     "metadata": {
      "needs_background": "light"
     },
     "output_type": "display_data"
    },
    {
     "data": {
      "image/png": "[encoded data removed]",
      "text/plain": [
       "<Figure size 108x108 with 1 Axes>"
      ]
     },
     "metadata": {
      "needs_background": "light"
     },
     "output_type": "display_data"
    }
   ],
   "source": [
    "region_colors = [MGB_color[0], A1_color[0]]\n",
    "regions = ['MGB', 'A1']\n",
    "sig = 1\n",
    "data = subsample_summary[(subsample_summary.n_events > 100 )]\n",
    "param = {'strf': 'ptd', 'crh': 'morani'}\n",
    "for rf in ['strf', 'crh']:\n",
    "    if sig:\n",
    "        data = data[eval('data.{}_sig'.format(rf))]\n",
    "    for ne_param in ('cNE', 'ne_spike'):\n",
    "        fig = plt.figure()\n",
    "        plt.plot([-1, 25], [-1, 25], 'k')\n",
    "        sns.scatterplot(data=data, x='{}_neuron'.format(param[rf]), y='{}_{}'.format(param[rf], ne_param), \n",
    "                    hue='region', palette=[MGB_color[0], A1_color[0]], hue_order=['MGB', 'A1'], \n",
    "                    s=5, legend=False)\n",
    "        plt.xlabel('neuron {}'.format(param[rf].replace('_', ' ').upper()))\n",
    "        plt.ylabel('{} {}'.format(ne_param.replace('_', ' '), param[rf].replace('_', ' ').upper()))\n",
    "        if rf == 'strf':\n",
    "            plt.xlim([0, 25])\n",
    "            plt.ylim([0, 25])\n",
    "        else:\n",
    "            plt.xlim([-.1, 1])\n",
    "            plt.ylim([-.1, 1])\n",
    "\n",
    "        for i, region in enumerate(regions):\n",
    "            _, p = stats.wilcoxon(x=data[data.region==region]['{}_neuron'.format(param[rf])], \n",
    "                              y=data[data.region==region]['{}_{}'.format(param[rf], ne_param)])\n",
    "            if rf == 'strf':\n",
    "                plt.text(0, 18-2*i, 'p = {:.1e}'.format(p), color=region_colors[i])\n",
    "            else:\n",
    "                plt.text(0, .9-.1*i, 'p = {:.1e}'.format(p), color=region_colors[i])\n",
    "            print('{}: p={}, neuron-{}, ne-{}'.format(region, p,\n",
    "                                        data[data.region==region]['{}_neuron'.format(param[rf])].mean(), \n",
    "                                        data[data.region==region]['{}_{}'.format(param[rf], ne_param)].mean()))\n",
    "        fig.set_size_inches(1.5,1.5)\n",
    "        if sig:\n",
    "            plt.savefig(r'E:\\Congcong\\Documents\\data\\comparison\\figure\\cNE-properties\\{}_neuron_vs_{}_sig.jpg'.format(param[rf], ne_param), bbox_inches='tight', dpi=300)\n",
    "        else:\n",
    "            plt.savefig(r'E:\\Congcong\\Documents\\data\\comparison\\figure\\cNE-properties\\{}_neuron_vs_{}.jpg'.format(param[rf], ne_param), bbox_inches='tight', dpi=300)\n"
   ]
  },
  {
   "cell_type": "markdown",
   "id": "bdbe266a",
   "metadata": {},
   "source": [
    "#### strf nonlinearity (ASI) and mutual information"
   ]
  },
  {
   "cell_type": "code",
   "execution_count": 52,
   "id": "174d06db",
   "metadata": {},
   "outputs": [
    {
     "name": "stdout",
     "output_type": "stream",
     "text": [
      "MGB: p=9.82792306427068e-10, neuron-1.0376096095961116, ne-1.1735737214248991\n",
      "A1: p=4.7086784663493984e-08, neuron-0.7227318902962259, ne-0.7659273840416664\n",
      "MGB: p=1.9448901014878258e-18, neuron-1.0376096095961116, ne-1.2479217378578287\n",
      "A1: p=4.1106004137120294e-22, neuron-0.7227318902962259, ne-0.8633909968243144\n"
     ]
    },
    {
     "data": {
      "image/png": "[encoded data removed]",
      "text/plain": [
       "<Figure size 108x108 with 1 Axes>"
      ]
     },
     "metadata": {
      "needs_background": "light"
     },
     "output_type": "display_data"
    },
    {
     "data": {
      "image/png": "[encoded data removed]",
      "text/plain": [
       "<Figure size 108x108 with 1 Axes>"
      ]
     },
     "metadata": {
      "needs_background": "light"
     },
     "output_type": "display_data"
    }
   ],
   "source": [
    "region_colors = [MGB_color[0], A1_color[0]]\n",
    "regions = ['MGB', 'A1']\n",
    "sig = 1\n",
    "data = subsample_summary[(subsample_summary.n_events > 100 )]\n",
    "for param in ['mi']:\n",
    "    if sig:\n",
    "        data = data[eval('data.{}_sig'.format(rf))]\n",
    "    for ne_param in ('cNE', 'ne_spike'):\n",
    "        fig = plt.figure()\n",
    "        plt.plot([-1, 25], [-1, 25], 'k')\n",
    "        sns.scatterplot(data=data, x='{}_neuron'.format(param), y='{}_{}'.format(param, ne_param), \n",
    "                    hue='region', palette=[MGB_color[0], A1_color[0]], hue_order=['MGB', 'A1'], \n",
    "                    s=5, legend=False)\n",
    "        plt.xlabel('neuron {}'.format(param.replace('_', ' ').upper()))\n",
    "        plt.ylabel('{} {}'.format(ne_param.replace('_', ' '), param.replace('_', ' ').upper()))\n",
    "        if param == 'asi':\n",
    "            plt.xlim([.5, 1])\n",
    "            plt.ylim([.5, 1])\n",
    "        else:\n",
    "            plt.xlim([-.1, 3])\n",
    "            plt.ylim([-.1, 3])\n",
    "\n",
    "        for i, region in enumerate(regions):\n",
    "            _, p = stats.wilcoxon(x=data[data.region==region]['{}_neuron'.format(param)], \n",
    "                              y=data[data.region==region]['{}_{}'.format(param, ne_param)])\n",
    "            if param == 'asi':\n",
    "                plt.text(.55, .9-.05*i, 'p = {:.1e}'.format(p), color=region_colors[i])\n",
    "            else:\n",
    "                plt.text(0, .9-.1*i, 'p = {:.1e}'.format(p), color=region_colors[i])\n",
    "            print('{}: p={}, neuron-{}, ne-{}'.format(region, p,\n",
    "                                        data[data.region==region]['{}_neuron'.format(param)].mean(), \n",
    "                                        data[data.region==region]['{}_{}'.format(param, ne_param)].mean()))\n",
    "        fig.set_size_inches(1.5,1.5)\n",
    "        if sig:\n",
    "            plt.savefig(r'E:\\Congcong\\Documents\\data\\comparison\\figure\\cNE-properties\\{}_neuron_vs_{}_sig.jpg'.format(param, ne_param), bbox_inches='tight', dpi=300)\n",
    "        else:\n",
    "            plt.savefig(r'E:\\Congcong\\Documents\\data\\comparison\\figure\\cNE-properties\\{}_neuron_vs_{}.jpg'.format(param, ne_param), bbox_inches='tight', dpi=300)\n"
   ]
  },
  {
   "cell_type": "code",
   "execution_count": null,
   "id": "677aa033",
   "metadata": {},
   "outputs": [],
   "source": []
  },
  {
   "cell_type": "code",
   "execution_count": null,
   "id": "9ab85605",
   "metadata": {},
   "outputs": [],
   "source": []
  }
 ],
 "metadata": {
  "kernelspec": {
   "display_name": "Python 3 (ipykernel)",
   "language": "python",
   "name": "python3"
  },
  "language_info": {
   "codemirror_mode": {
    "name": "ipython",
    "version": 3
   },
   "file_extension": ".py",
   "mimetype": "text/x-python",
   "name": "python",
   "nbconvert_exporter": "python",
   "pygments_lexer": "ipython3",
   "version": "3.9.7"
  }
 },
 "nbformat": 4,
 "nbformat_minor": 5
}
